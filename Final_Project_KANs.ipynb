{
 "cells": [
  {
   "cell_type": "markdown",
   "id": "1f3608e5",
   "metadata": {
    "papermill": {
     "duration": 0.00587,
     "end_time": "2024-12-02T18:01:26.729819",
     "exception": false,
     "start_time": "2024-12-02T18:01:26.723949",
     "status": "completed"
    },
    "tags": []
   },
   "source": [
    "# AutoEncoders using Convolutional KANs"
   ]
  },
  {
   "cell_type": "markdown",
   "id": "816d205d-8ee7-45e3-950d-dc7de056c1c6",
   "metadata": {},
   "source": [
    "### Importing Library"
   ]
  },
  {
   "cell_type": "code",
   "execution_count": null,
   "id": "309e81b6",
   "metadata": {
    "_cell_guid": "b1076dfc-b9ad-4769-8c92-a6c4dae69d19",
    "_uuid": "8f2839f25d086af736a60e9eeb907d3b93b6e0e5",
    "papermill": {
     "duration": 26.622165,
     "end_time": "2024-12-02T18:01:15.233259",
     "exception": false,
     "start_time": "2024-12-02T18:00:48.611094",
     "status": "completed"
    },
    "tags": []
   },
   "outputs": [],
   "source": [
    "# This Python 3 environment comes with many helpful analytics libraries installed\n",
    "# It is defined by the kaggle/python Docker image: https://github.com/kaggle/docker-python\n",
    "# For example, here's several helpful packages to load\n",
    "\n",
    "import numpy as np # linear algebra\n",
    "import pandas as pd # data processing, CSV file I/O (e.g. pd.read_csv)\n",
    "\n",
    "# Input data files are available in the read-only \"../input/\" directory\n",
    "# For example, running this (by clicking run or pressing Shift+Enter) will list all files under the input directory\n",
    "\n",
    "import os\n",
    "for dirname, _, filenames in os.walk('/kaggle/input'):\n",
    "    for filename in filenames:\n",
    "        print(os.path.join(dirname, filename))\n",
    "        break\n",
    "\n",
    "# You can write up to 20GB to the current directory (/kaggle/working/) that gets preserved as output when you create a version using \"Save & Run All\" \n",
    "# You can also write temporary files to /kaggle/temp/, but they won't be saved outside of the current session"
   ]
  },
  {
   "cell_type": "markdown",
   "id": "b962ad02-f05e-4942-8b68-94684427348b",
   "metadata": {},
   "source": [
    "### Install convkan\n",
    "Library can be found here: https://pypi.org/project/convkan/"
   ]
  },
  {
   "cell_type": "code",
   "execution_count": null,
   "id": "89ff0098",
   "metadata": {
    "papermill": {
     "duration": 11.47942,
     "end_time": "2024-12-02T18:01:26.718557",
     "exception": false,
     "start_time": "2024-12-02T18:01:15.239137",
     "status": "completed"
    },
    "tags": []
   },
   "outputs": [],
   "source": [
    "!pip install convkan"
   ]
  },
  {
   "cell_type": "markdown",
   "id": "1028b798-e5ac-4df2-a5a9-82f140e7aa85",
   "metadata": {},
   "source": [
    "### Training and Validation Data Augmentation "
   ]
  },
  {
   "cell_type": "code",
   "execution_count": null,
   "id": "06a21d92",
   "metadata": {
    "papermill": {
     "duration": 5.374487,
     "end_time": "2024-12-02T18:01:33.129849",
     "exception": false,
     "start_time": "2024-12-02T18:01:27.755362",
     "status": "completed"
    },
    "tags": []
   },
   "outputs": [],
   "source": [
    "import os\n",
    "import torch\n",
    "import torch.nn as nn\n",
    "from torch.utils.data import Dataset, DataLoader\n",
    "import torchvision.transforms as transforms\n",
    "from PIL import Image\n",
    "from convkan import ConvKAN, LayerNorm2D\n",
    "\n",
    "\n",
    "# List of categories as per the directory structure\n",
    "categories = [\n",
    "    'Herpes HPV and other STDs Photos', 'Acne and Rosacea Photos', 'Light Diseases and Disorders of Pigmentation',\n",
    "    'Scabies Lyme Disease and other Infestations and Bites', 'Poison Ivy Photos and other Contact Dermatitis',\n",
    "    'Vascular Tumors', 'Psoriasis pictures Lichen Planus and related diseases', 'Vasculitis Photos',\n",
    "    'Lupus and other Connective Tissue diseases', 'Urticaria Hives', 'Nail Fungus and other Nail Disease',\n",
    "    'Systemic Disease', 'Tinea Ringworm Candidiasis and other Fungal Infections',\n",
    "    'Actinic Keratosis Basal Cell Carcinoma and other Malignant Lesions', 'Atopic Dermatitis Photos',\n",
    "    'Warts Molluscum and other Viral Infections', 'Melanoma Skin Cancer Nevi and Moles',\n",
    "    'Hair Loss Photos Alopecia and other Hair Diseases', 'Cellulitis Impetigo and other Bacterial Infections',\n",
    "    'Seborrheic Keratoses and other Benign Tumors', 'Bullous Disease Photos', 'Eczema Photos',\n",
    "    'Exanthems and Drug Eruptions'\n",
    "]\n",
    "\n",
    "# Map each category to an integer label\n",
    "category_to_label = {category: idx for idx, category in enumerate(categories)}\n",
    "\n",
    "# Define the transformation with grayscale conversion\n",
    "transform = transforms.Compose([\n",
    "    transforms.Grayscale(num_output_channels=1),  # Convert image to grayscale\n",
    "    transforms.RandomResizedCrop(112),  # Crop and resize to 112x112\n",
    "    transforms.ToTensor(),  # Convert to Tensor (HWC -> CHW)\n",
    "    transforms.Normalize(mean=[0.5], std=[0.5])  # Normalize grayscale images\n",
    "])\n",
    "\n",
    "\n",
    "# Custom Dataset class\n",
    "class SkinDiseaseDataset(Dataset):\n",
    "    def __init__(self, root_dir, transform=None):\n",
    "        \"\"\"\n",
    "        Args:\n",
    "            root_dir (str): Root directory with subdirectories for each category.\n",
    "            transform (callable, optional): Optional transform to be applied on a sample.\n",
    "        \"\"\"\n",
    "        self.root_dir = root_dir\n",
    "        self.transform = transform\n",
    "        self.annotations = self._generate_annotations()\n",
    "\n",
    "    def _generate_annotations(self):\n",
    "        annotations = []\n",
    "        # Iterate through each category directory in the root directory\n",
    "        for category in os.listdir(self.root_dir):\n",
    "            category_path = os.path.join(self.root_dir, category)\n",
    "            if os.path.isdir(category_path) and category in category_to_label:\n",
    "                label = category_to_label[category]\n",
    "                # Iterate through each image in the category directory\n",
    "                for img_name in os.listdir(category_path):\n",
    "                    img_path = os.path.join(category, img_name)\n",
    "                    annotations.append((img_path, label))  # Store relative path and label\n",
    "        return annotations\n",
    "\n",
    "    def __len__(self):\n",
    "        return len(self.annotations)\n",
    "\n",
    "    def __getitem__(self, idx):\n",
    "        img_path, label = self.annotations[idx]\n",
    "        full_img_path = os.path.join(self.root_dir, img_path)\n",
    "       \n",
    "        # Load image\n",
    "        image = Image.open(full_img_path).convert(\"RGB\")\n",
    "       \n",
    "        # Apply transformation\n",
    "        if self.transform:\n",
    "            image = self.transform(image)\n",
    "\n",
    "        return image, label\n",
    "\n",
    "# Initialize dataset and dataloader with updated transformations\n",
    "data_dir = '/kaggle/input/dermnet/train'  # Update this path to match your data directory\n",
    "dataset = SkinDiseaseDataset(root_dir=data_dir, transform=transform)\n",
    "train_loader = DataLoader(dataset, batch_size=32, shuffle=True, num_workers=2)\n",
    "val_dir = '/kaggle/input/dermnet/test'\n",
    "val_dataset = SkinDiseaseDataset(root_dir=val_dir,transform=transform)\n",
    "test_loader = DataLoader(dataset,batch_size=32,shuffle=False,num_workers=2)\n",
    "for image, label in train_loader:\n",
    "    print(f'Image batch shape: {image.shape}')  # Check the shape (Batch size, Channels, Height, Width)\n",
    "    print(f'Label batch shape: {len(label)}')  # Check the number of labels\n",
    "    break"
   ]
  },
  {
   "cell_type": "markdown",
   "id": "247be9ca-d36e-499e-9836-dd5b790f3921",
   "metadata": {},
   "source": [
    "### Model Architecture\n"
   ]
  },
  {
   "cell_type": "code",
   "execution_count": null,
   "id": "0de8a591",
   "metadata": {
    "papermill": {
     "duration": 0.021299,
     "end_time": "2024-12-02T18:01:33.157940",
     "exception": false,
     "start_time": "2024-12-02T18:01:33.136641",
     "status": "completed"
    },
    "tags": []
   },
   "outputs": [],
   "source": [
    "import torch\n",
    "import torch.nn as nn\n",
    "from convkan import ConvKAN, LayerNorm2D\n",
    "\n",
    "# Simplified Encoder\n",
    "class Encoder(nn.Module):\n",
    "    def __init__(self, in_channels, latent_dim):\n",
    "        super(Encoder, self).__init__()\n",
    "        self.conv_layers = nn.Sequential(\n",
    "            ConvKAN(in_channels, 4, kernel_size=3, stride=2, padding=1),\n",
    "            LayerNorm2D(4),\n",
    "            nn.LeakyReLU(0.2, inplace=True),\n",
    "\n",
    "            ConvKAN(4, 8, kernel_size=3, stride=2, padding=1),\n",
    "            LayerNorm2D(8),\n",
    "            nn.LeakyReLU(0.2, inplace=True),\n",
    "\n",
    "            ConvKAN(8, 16, kernel_size=3, stride=2, padding=1),\n",
    "            LayerNorm2D(16),\n",
    "            nn.LeakyReLU(0.2, inplace=True),\n",
    "            ConvKAN(16, 16, kernel_size=3, stride=2, padding=1),\n",
    "            LayerNorm2D(16),\n",
    "            nn.LeakyReLU(0.2, inplace=True),\n",
    "\n",
    "            ConvKAN(16, 32, kernel_size=3, stride=2, padding=1),\n",
    "            LayerNorm2D(32),\n",
    "            nn.LeakyReLU(0.2, inplace=True)\n",
    "        )\n",
    "        self.flatten = nn.Flatten()\n",
    "\n",
    "        # Assuming input image size is 112 x 112\n",
    "        # Calculate output size after convolutions\n",
    "        self.feature_size = 32 * 4 * 4  # 32 channels, 7x7 feature map\n",
    "\n",
    "        self.fc = nn.Linear(self.feature_size, latent_dim)\n",
    "\n",
    "    def forward(self, x):\n",
    "        x = self.conv_layers(x)\n",
    "        x = self.flatten(x)\n",
    "        x = self.fc(x)\n",
    "        return x\n",
    "\n",
    "class Decoder(nn.Module):\n",
    "    def __init__(self, latent_dim, out_channels):\n",
    "        super(Decoder, self).__init__()\n",
    "        self.fc = nn.Linear(latent_dim, 32 * 4 * 4)\n",
    "        self.unflatten = nn.Unflatten(1, (32, 4, 4))\n",
    "        self.deconv_layers = nn.Sequential(\n",
    "            nn.Upsample(scale_factor=2, mode='nearest'),  # 4 -> 8\n",
    "            ConvKAN(32, 16, kernel_size=3, stride=1, padding=1),\n",
    "            LayerNorm2D(16),\n",
    "            nn.LeakyReLU(0.2, inplace=True),\n",
    "\n",
    "            nn.Upsample(scale_factor=2, mode='nearest'),  # 8 -> 16\n",
    "            ConvKAN(16, 8, kernel_size=3, stride=1, padding=1),\n",
    "            LayerNorm2D(8),\n",
    "            nn.LeakyReLU(0.2, inplace=True),\n",
    "\n",
    "            nn.Upsample(scale_factor=2, mode='nearest'),  # 16 -> 32\n",
    "            ConvKAN(8, 8, kernel_size=3, stride=1, padding=1),\n",
    "            LayerNorm2D(8),\n",
    "            nn.LeakyReLU(0.2, inplace=True),\n",
    "\n",
    "            nn.Upsample(scale_factor=2, mode='nearest'),  # 32 -> 64\n",
    "            ConvKAN(8, 4, kernel_size=3, stride=1, padding=1),\n",
    "            LayerNorm2D(4),\n",
    "            nn.LeakyReLU(0.2, inplace=True),\n",
    "\n",
    "       \n",
    "\n",
    "\n",
    "            nn.Upsample(scale_factor=1.75, mode='bilinear', align_corners=True),  # Fine-tune output size\n",
    "            ConvKAN(4, out_channels, kernel_size=3, stride=1, padding=1),\n",
    "            nn.Tanh()\n",
    "        )\n",
    "\n",
    "    def forward(self, x):\n",
    "        x = self.fc(x) # Debugging shape\n",
    "        x = self.unflatten(x)# Debugging shape\n",
    "        x = self.deconv_layers(x)\n",
    "        return x\n",
    "\n",
    "\n",
    "\n",
    "\n",
    "\n",
    "# Autoencoder\n",
    "class Autoencoder(nn.Module):\n",
    "    def __init__(self, in_channels=3, latent_dim=10):\n",
    "        super(Autoencoder, self).__init__()\n",
    "        self.encoder = Encoder(in_channels, latent_dim)\n",
    "        self.decoder = Decoder(latent_dim, in_channels)\n",
    "\n",
    "    def forward(self, x):\n",
    "        latent = self.encoder(x)\n",
    "        reconstructed = self.decoder(latent)\n",
    "        return reconstructed"
   ]
  },
  {
   "cell_type": "markdown",
   "id": "bdfba507-7d7b-44d7-8b5a-de3912c1cb2c",
   "metadata": {},
   "source": [
    "### Testing the shape of the model"
   ]
  },
  {
   "cell_type": "code",
   "execution_count": null,
   "id": "d9891adf",
   "metadata": {
    "papermill": {
     "duration": 0.420922,
     "end_time": "2024-12-02T18:01:33.584138",
     "exception": false,
     "start_time": "2024-12-02T18:01:33.163216",
     "status": "completed"
    },
    "tags": []
   },
   "outputs": [],
   "source": [
    "model = Autoencoder(in_channels=1, latent_dim=10)\n",
    "sample_input = torch.randn(1, 1, 112, 112)  # Batch size 1, 3 channels, 112x112\n",
    "output = model(sample_input)\n",
    "\n",
    "print(\"Input shape:\", sample_input.shape)\n",
    "print(\"Output shape:\", output.shape)\n"
   ]
  },
  {
   "cell_type": "markdown",
   "id": "16dd1ea9-c99f-4529-b4d5-2900215567fb",
   "metadata": {},
   "source": [
    "### Optimization and Loss Functions"
   ]
  },
  {
   "cell_type": "code",
   "execution_count": null,
   "id": "33d7f2d4",
   "metadata": {
    "papermill": {
     "duration": 0.286595,
     "end_time": "2024-12-02T18:01:33.887469",
     "exception": false,
     "start_time": "2024-12-02T18:01:33.600874",
     "status": "completed"
    },
    "tags": []
   },
   "outputs": [],
   "source": [
    "\n",
    "from torch.cuda.amp import GradScaler,autocast\n",
    "from torch import optim\n",
    "# Instantiate the autoencoder with reduced latent dimension\n",
    "latent_dim = 130  # Reduced latent dimension\n",
    "in_channels = 1  # RGB images\n",
    "model = Autoencoder(in_channels=in_channels, latent_dim=latent_dim)\n",
    "\n",
    "# Move model to GPU if available\n",
    "device = torch.device('cuda' if torch.cuda.is_available() else 'cpu')\n",
    "model.to(device)\n",
    "\n",
    "# Loss function and optimizer\n",
    "criterion = nn.MSELoss()\n",
    "optimizer = torch.optim.Adam(model.parameters(), lr=1e-5)\n",
    "\n",
    "# Use mixed precision training\n",
    "scaler = torch.amp.GradScaler('cuda')"
   ]
  },
  {
   "cell_type": "markdown",
   "id": "66a782bf-e2e9-4e68-8fc3-60f45290e84a",
   "metadata": {},
   "source": [
    "### Training and Validation Loop"
   ]
  },
  {
   "cell_type": "code",
   "execution_count": null,
   "id": "6dad294c",
   "metadata": {
    "papermill": {
     "duration": 30177.373496,
     "end_time": "2024-12-03T02:24:31.266579",
     "exception": false,
     "start_time": "2024-12-02T18:01:33.893083",
     "status": "completed"
    },
    "tags": []
   },
   "outputs": [],
   "source": [
    "from torch.amp import autocast  # Import autocast from torch.amp\n",
    "import matplotlib.pyplot as plt\n",
    "# Training loop with mixed precision and memory optimizations\n",
    "num_epochs = 50\n",
    "for epoch in range(num_epochs):\n",
    "    print('training_in_session')\n",
    "    model.train()\n",
    "    running_loss = 0.0\n",
    "    batch_count = len(train_loader)\n",
    "    for batch_idx, (images, _) in enumerate(train_loader):\n",
    "        images = images.to(device, non_blocking=True)\n",
    "        optimizer.zero_grad()\n",
    "        # print('autocasting...')\n",
    "        with autocast(\"cuda\"):  # Use \"cuda\" for autocast\n",
    "            outputs = model(images)\n",
    "            loss = criterion(outputs, images)\n",
    "        scaler.scale(loss).backward()\n",
    "        scaler.step(optimizer)\n",
    "        scaler.update()\n",
    "        batch_loss = loss.item()\n",
    "        # print('lossing...')\n",
    "        running_loss += batch_loss * images.size(0)\n",
    "\n",
    "        # Print batch status every 100 batches\n",
    "        if (batch_idx + 1) % 50 == 0:\n",
    "            # print('calculating...')\n",
    "            print(f'Epoch [{epoch+1}/{num_epochs}], Batch [{batch_idx+1}/{batch_count}], Loss: {batch_loss:.4f}')\n",
    "\n",
    "        del images, outputs, loss\n",
    "        torch.cuda.empty_cache()\n",
    "    epoch_loss = running_loss / len(train_loader.dataset)\n",
    "    print(f'Epoch [{epoch+1}/{num_epochs}], Training Loss: {epoch_loss:.4f}')\n",
    "\n",
    "    # Validation phase\n",
    "    model.eval()\n",
    "    val_loss = 0.0\n",
    "    images_plot = None\n",
    "    with torch.no_grad():\n",
    "        batch_count = len(test_loader)\n",
    "        for idx, (images, _) in enumerate(test_loader):\n",
    "            images = images.to(device, non_blocking=True)\n",
    "            with autocast(\"cuda\"):  # Use \"cuda\" for autocast\n",
    "                outputs = model(images)\n",
    "                loss = criterion(outputs, images)\n",
    "            val_loss += loss.item() * images.size(0)\n",
    "\n",
    "            if images_plot is None and idx == 0:\n",
    "                images_plot = images.cpu()\n",
    "                outputs_plot = outputs.cpu()\n",
    "\n",
    "            del images, outputs, loss\n",
    "            torch.cuda.empty_cache()\n",
    "    val_loss = val_loss / len(test_loader.dataset)\n",
    "    print(f'Epoch [{epoch+1}/{num_epochs}], Validation Loss: {val_loss:.4f}')\n",
    "\n",
    "    # Plot reconstructed images after each epoch\n",
    "    if images_plot is not None:\n",
    "        # Denormalize images for plotting\n",
    "        images_plot = images_plot * 0.5 + 0.5\n",
    "        outputs_plot = outputs_plot * 0.5 + 0.5\n",
    "\n",
    "        num_images = min(images_plot.size(0), 6)\n",
    "        fig, axes = plt.subplots(2, num_images, figsize=(num_images * 2, 4))\n",
    "        for i in range(num_images):\n",
    "            axes[0, i].imshow(images_plot[i].permute(1, 2, 0).numpy())\n",
    "            axes[0, i].axis('off')\n",
    "            axes[1, i].imshow(outputs_plot[i].permute(1, 2, 0).numpy())\n",
    "            axes[1, i].axis('off')\n",
    "        axes[0, 0].set_ylabel('Original')\n",
    "        axes[1, 0].set_ylabel('Reconstructed')\n",
    "        plt.suptitle(f'Epoch {epoch+1}')\n",
    "        plt.tight_layout()\n",
    "        plt.show()\n",
    "\n",
    "        del images_plot, outputs_plot\n",
    "        torch.cuda.empty_cache()\n",
    "print('Training completed.')"
   ]
  },
  {
   "cell_type": "markdown",
   "id": "db71b9ff-89f9-421b-832e-37a4bf861dd6",
   "metadata": {},
   "source": [
    "### Run Garbage Collection in case failure"
   ]
  },
  {
   "cell_type": "code",
   "execution_count": null,
   "id": "0d86b6ba",
   "metadata": {
    "papermill": {
     "duration": 0.373222,
     "end_time": "2024-12-03T02:24:32.965758",
     "exception": false,
     "start_time": "2024-12-03T02:24:32.592536",
     "status": "completed"
    },
    "tags": []
   },
   "outputs": [],
   "source": [
    "import gc\n",
    "gc.collect()"
   ]
  }
 ],
 "metadata": {
  "kaggle": {
   "accelerator": "nvidiaTeslaT4",
   "dataSources": [
    {
     "datasetId": 735911,
     "sourceId": 1276317,
     "sourceType": "datasetVersion"
    }
   ],
   "dockerImageVersionId": 30787,
   "isGpuEnabled": true,
   "isInternetEnabled": true,
   "language": "python",
   "sourceType": "notebook"
  },
  "kernelspec": {
   "display_name": "Python 3 (ipykernel)",
   "language": "python",
   "name": "python3"
  },
  "language_info": {
   "codemirror_mode": {
    "name": "ipython",
    "version": 3
   },
   "file_extension": ".py",
   "mimetype": "text/x-python",
   "name": "python",
   "nbconvert_exporter": "python",
   "pygments_lexer": "ipython3",
   "version": "3.12.2"
  },
  "papermill": {
   "default_parameters": {},
   "duration": 30233.114732,
   "end_time": "2024-12-03T02:24:39.439346",
   "environment_variables": {},
   "exception": null,
   "input_path": "__notebook__.ipynb",
   "output_path": "__notebook__.ipynb",
   "parameters": {},
   "start_time": "2024-12-02T18:00:46.324614",
   "version": "2.6.0"
  }
 },
 "nbformat": 4,
 "nbformat_minor": 5
}
